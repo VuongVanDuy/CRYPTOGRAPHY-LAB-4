{
 "cells": [
  {
   "metadata": {},
   "cell_type": "markdown",
   "source": "# **1. DES (Data Encryption Standard)**",
   "id": "e147977e62825152"
  },
  {
   "cell_type": "code",
   "id": "initial_id",
   "metadata": {
    "collapsed": true,
    "ExecuteTime": {
     "end_time": "2025-03-04T22:18:10.079100Z",
     "start_time": "2025-03-04T22:18:10.056559Z"
    }
   },
   "source": [
    "from bitarray import bitarray\n",
    "from bitarray.util import ba2int, int2ba"
   ],
   "outputs": [],
   "execution_count": 1
  },
  {
   "metadata": {
    "ExecuteTime": {
     "end_time": "2025-03-04T22:18:10.103108Z",
     "start_time": "2025-03-04T22:18:10.094481Z"
    }
   },
   "cell_type": "code",
   "source": [
    "def hex_to_bin(hex_string):\n",
    "    hex_string = hex_string.replace(\" \", \"\")\n",
    "    return bitarray(bin(int(hex_string, 16))[2:].zfill(len(hex_string) * 4))"
   ],
   "id": "30a8785d7b6906ab",
   "outputs": [],
   "execution_count": 2
  },
  {
   "metadata": {
    "ExecuteTime": {
     "end_time": "2025-03-04T22:18:10.408322Z",
     "start_time": "2025-03-04T22:18:10.397733Z"
    }
   },
   "cell_type": "code",
   "source": [
    "def bin_to_hex(bin_array):\n",
    "    \"\"\"Chuyển đổi dữ liệu nhị phân thành chuỗi thập lục phân với định dạng mong muốn.\"\"\"\n",
    "    hex_string = format(ba2int(bin_array), 'X').zfill(len(bin_array) // 4)\n",
    "    return ' '.join(hex_string[i:i+2] for i in range(0, len(hex_string), 2))"
   ],
   "id": "248e9bdb05b64808",
   "outputs": [],
   "execution_count": 3
  },
  {
   "metadata": {
    "ExecuteTime": {
     "end_time": "2025-03-04T22:18:10.436073Z",
     "start_time": "2025-03-04T22:18:10.429204Z"
    }
   },
   "cell_type": "code",
   "source": [
    "# message và key dưới dạng hex\n",
    "hex_message = \"01 A2 B3 C4 D5 E6 07 F8\"\n",
    "hex_key = \"13 34 57 79 9B BC DF F1\""
   ],
   "id": "bf82ed7ce86424a3",
   "outputs": [],
   "execution_count": 4
  },
  {
   "metadata": {
    "ExecuteTime": {
     "end_time": "2025-03-04T22:18:10.472768Z",
     "start_time": "2025-03-04T22:18:10.462981Z"
    }
   },
   "cell_type": "code",
   "source": [
    "binary_message = hex_to_bin(hex_message)\n",
    "binary_key = hex_to_bin(hex_key)\n",
    "print(f\"Dữ liệu nhị phân: {binary_message.to01()}\")\n",
    "print(f\"Khóa nhị phân: {binary_key.to01()}\")\n",
    "print(len(binary_message))"
   ],
   "id": "422ad56556c025aa",
   "outputs": [
    {
     "name": "stdout",
     "output_type": "stream",
     "text": [
      "Dữ liệu nhị phân: 0000000110100010101100111100010011010101111001100000011111111000\n",
      "Khóa nhị phân: 0001001100110100010101110111100110011011101111001101111111110001\n",
      "64\n"
     ]
    }
   ],
   "execution_count": 5
  },
  {
   "metadata": {
    "ExecuteTime": {
     "end_time": "2025-03-04T22:18:10.508598Z",
     "start_time": "2025-03-04T22:18:10.488520Z"
    }
   },
   "cell_type": "code",
   "source": [
    "print(f\"Dữ liệu thập lục phân: {bin_to_hex(binary_message)}\")\n",
    "print(f\"Khóa thập lục phân: {bin_to_hex(binary_key)}\")"
   ],
   "id": "99ec705602032da5",
   "outputs": [
    {
     "name": "stdout",
     "output_type": "stream",
     "text": [
      "Dữ liệu thập lục phân: 01 A2 B3 C4 D5 E6 07 F8\n",
      "Khóa thập lục phân: 13 34 57 79 9B BC DF F1\n"
     ]
    }
   ],
   "execution_count": 6
  },
  {
   "metadata": {
    "ExecuteTime": {
     "end_time": "2025-03-04T22:18:10.539509Z",
     "start_time": "2025-03-04T22:18:10.527481Z"
    }
   },
   "cell_type": "code",
   "source": [
    "# read S_blocks\n",
    "import json\n",
    "with open(\"S_blocks.json\", \"r\") as file:\n",
    "    S_BLOCKS = json.load(file)\n",
    "\n",
    "# read P_blocks\n",
    "with open(\"P_blocks.json\", \"r\") as file:\n",
    "    P_BLOCKS = json.load(file)\n",
    "\n",
    "#read PC_blocks\n",
    "with open(\"PC_blocks.json\", \"r\") as file:\n",
    "    PC_BLOCKS = json.load(file)"
   ],
   "id": "38167291345609e7",
   "outputs": [],
   "execution_count": 7
  },
  {
   "metadata": {
    "ExecuteTime": {
     "end_time": "2025-03-04T22:18:10.565641Z",
     "start_time": "2025-03-04T22:18:10.558294Z"
    }
   },
   "cell_type": "code",
   "source": "SHIFT_SCHEDULE = [1, 1, 2, 2, 2, 2, 2, 2, 1, 2, 2, 2, 2, 2, 2, 1]",
   "id": "a3abf7ccc8aa9192",
   "outputs": [],
   "execution_count": 8
  },
  {
   "metadata": {
    "ExecuteTime": {
     "end_time": "2025-03-04T22:18:10.595896Z",
     "start_time": "2025-03-04T22:18:10.586762Z"
    }
   },
   "cell_type": "code",
   "source": [
    "def permute(bits, table):\n",
    "    \"\"\"Áp dụng hoán vị theo bảng cho trước.\"\"\"\n",
    "    return bitarray([bits[i - 1] for i in table])"
   ],
   "id": "82caa598ff3176a1",
   "outputs": [],
   "execution_count": 9
  },
  {
   "metadata": {
    "ExecuteTime": {
     "end_time": "2025-03-04T22:18:10.623386Z",
     "start_time": "2025-03-04T22:18:10.613817Z"
    }
   },
   "cell_type": "code",
   "source": [
    "def initial_permutation(bits):\n",
    "    \"\"\"Áp dụng hoán vị ban đầu.\"\"\"\n",
    "    return permute(bits, P_BLOCKS[\"Initial_Permutation\"])"
   ],
   "id": "6c25afc6c6ddd0f9",
   "outputs": [],
   "execution_count": 10
  },
  {
   "metadata": {
    "ExecuteTime": {
     "end_time": "2025-03-04T22:18:10.649656Z",
     "start_time": "2025-03-04T22:18:10.637916Z"
    }
   },
   "cell_type": "code",
   "source": [
    "def final_permutation(bits):\n",
    "    \"\"\"Áp dụng hoán vị cuối cùng.\"\"\"\n",
    "    return permute(bits, P_BLOCKS[\"Final_Permutation\"])"
   ],
   "id": "e26d2d9918d36325",
   "outputs": [],
   "execution_count": 11
  },
  {
   "metadata": {
    "ExecuteTime": {
     "end_time": "2025-03-04T22:18:10.675604Z",
     "start_time": "2025-03-04T22:18:10.664365Z"
    }
   },
   "cell_type": "code",
   "source": [
    "ip_message = initial_permutation(binary_message)\n",
    "print(f\"Initial Permutation: {ip_message.to01()}\")"
   ],
   "id": "81bcec38c3cde51a",
   "outputs": [
    {
     "name": "stdout",
     "output_type": "stream",
     "text": [
      "Initial Permutation: 1011100010010100011110000101010110111110101001101000000001100110\n"
     ]
    }
   ],
   "execution_count": 12
  },
  {
   "metadata": {
    "ExecuteTime": {
     "end_time": "2025-03-04T22:18:10.736313Z",
     "start_time": "2025-03-04T22:18:10.727140Z"
    }
   },
   "cell_type": "code",
   "source": [
    "ip_message_left = ip_message[:32]\n",
    "ip_message_right = ip_message[32:]\n",
    "print(f\"Left: {ip_message_left.to01()}\")\n",
    "print(f\"Right: {ip_message_right.to01()}\")"
   ],
   "id": "6445ac5cdb5f5a3",
   "outputs": [
    {
     "name": "stdout",
     "output_type": "stream",
     "text": [
      "Left: 10111000100101000111100001010101\n",
      "Right: 10111110101001101000000001100110\n"
     ]
    }
   ],
   "execution_count": 13
  },
  {
   "metadata": {
    "ExecuteTime": {
     "end_time": "2025-03-04T22:18:10.763173Z",
     "start_time": "2025-03-04T22:18:10.756175Z"
    }
   },
   "cell_type": "code",
   "source": [
    "def shift_left(bits, n):\n",
    "    \"\"\"Dịch trái n bit.\"\"\"\n",
    "    return bits[n:] + bits[:n]"
   ],
   "id": "808ca7e7b6db6144",
   "outputs": [],
   "execution_count": 14
  },
  {
   "metadata": {
    "ExecuteTime": {
     "end_time": "2025-03-04T22:18:10.788521Z",
     "start_time": "2025-03-04T22:18:10.778020Z"
    }
   },
   "cell_type": "code",
   "source": [
    "def generate_subkeys(key):\n",
    "    \"\"\"Tạo 16 khóa con từ khóa 64-bit ban đầu.\"\"\"\n",
    "    key = permute(key, PC_BLOCKS[\"PC-1\"])  # Áp dụng PC-1 (giảm từ 64-bit xuống 56-bit)\n",
    "    C, D = key[:28], key[28:]  # Chia thành hai phần C và D\n",
    "    subkeys = []\n",
    "    for shift in SHIFT_SCHEDULE:\n",
    "        C, D = shift_left(C, shift), shift_left(D, shift)\n",
    "        subkeys.append(permute(C + D, PC_BLOCKS[\"PC-2\"]))  # Áp dụng PC-2\n",
    "    return subkeys"
   ],
   "id": "81db3a139a73c1cb",
   "outputs": [],
   "execution_count": 15
  },
  {
   "metadata": {
    "ExecuteTime": {
     "end_time": "2025-03-04T22:18:10.816485Z",
     "start_time": "2025-03-04T22:18:10.802604Z"
    }
   },
   "cell_type": "code",
   "source": [
    "subkeys = generate_subkeys(binary_key)\n",
    "print(f\"Số lượng khóa con: {len(subkeys)}\")\n",
    "# in hết các khóa con\n",
    "for i, key in enumerate(subkeys):\n",
    "    print(f\"Subkey {i + 1}: {key.to01()}\")"
   ],
   "id": "1da43e8088771345",
   "outputs": [
    {
     "name": "stdout",
     "output_type": "stream",
     "text": [
      "Số lượng khóa con: 16\n",
      "Subkey 1: 000110110000001011101111111111000111000001110010\n",
      "Subkey 2: 011110011010111011011001110110111100100111100101\n",
      "Subkey 3: 010101011111110010001010010000101100111110011001\n",
      "Subkey 4: 011100101010110111010110110110110011010100011101\n",
      "Subkey 5: 011111001110110000000111111010110101001110101000\n",
      "Subkey 6: 011000111010010100111110010100000111101100101111\n",
      "Subkey 7: 111011001000010010110111111101100001100010111100\n",
      "Subkey 8: 111101111000101000111010110000010011101111111011\n",
      "Subkey 9: 111000001101101111101011111011011110011110000001\n",
      "Subkey 10: 101100011111001101000111101110100100011001001111\n",
      "Subkey 11: 001000010101111111010011110111101101001110000110\n",
      "Subkey 12: 011101010111000111110101100101000110011111101001\n",
      "Subkey 13: 100101111100010111010001111110101011101001000001\n",
      "Subkey 14: 010111110100001110110111111100101110011100111010\n",
      "Subkey 15: 101111111001000110001101001111010011111100001010\n",
      "Subkey 16: 110010110011110110001011000011100001011111110101\n"
     ]
    }
   ],
   "execution_count": 16
  },
  {
   "metadata": {
    "ExecuteTime": {
     "end_time": "2025-03-04T22:18:10.844500Z",
     "start_time": "2025-03-04T22:18:10.829603Z"
    }
   },
   "cell_type": "code",
   "source": [
    "def f_function(right, key):\n",
    "    \"\"\"Hàm f được sử dụng trong mỗi vòng lặp DES.\"\"\"\n",
    "    expanded = permute(right, P_BLOCKS[\"Expansion_Permutation\"])\n",
    "    xor_result = expanded ^ key\n",
    "    output = bitarray()\n",
    "    for i in range(8):\n",
    "        block = xor_result[i * 6:(i + 1) * 6]\n",
    "        row = int(str(block[0]) + str(block[-1]), 2)\n",
    "        col = int(block[1:-1].to01(), 2)\n",
    "        output += int2ba(S_BLOCKS[f'S{i+1}'][row][col], length=4)\n",
    "    return permute(output, P_BLOCKS[\"Permutation_Function\"])"
   ],
   "id": "faa48f4cba238cb5",
   "outputs": [],
   "execution_count": 17
  },
  {
   "metadata": {
    "ExecuteTime": {
     "end_time": "2025-03-04T22:18:10.874667Z",
     "start_time": "2025-03-04T22:18:10.859239Z"
    }
   },
   "cell_type": "code",
   "source": [
    "def DES_round(left, right, key):\n",
    "    \"\"\"Một vòng lặp DES.\"\"\"\n",
    "    next_left = right\n",
    "    next_right = left ^ f_function(right, key)\n",
    "    return next_left, next_right"
   ],
   "id": "ec3c0ffd45979cbc",
   "outputs": [],
   "execution_count": 18
  },
  {
   "metadata": {
    "ExecuteTime": {
     "end_time": "2025-03-04T22:18:10.900533Z",
     "start_time": "2025-03-04T22:18:10.888965Z"
    }
   },
   "cell_type": "code",
   "source": [
    "def cipher_DES(block_64_bit, key, encrypt=True):\n",
    "    \"\"\"Mã hóa hoặc giải mã một khối 64-bit bằng DES.\"\"\"\n",
    "    block_64_bit = initial_permutation(block_64_bit)\n",
    "    left, right = block_64_bit[:32], block_64_bit[32:]\n",
    "    subkeys = generate_subkeys(key) if encrypt else generate_subkeys(key)[::-1]\n",
    "    \n",
    "    results = []\n",
    "    for key in subkeys:\n",
    "        left, right = DES_round(left, right, key)\n",
    "        results.append((left.copy(), right.copy(), key.copy()))\n",
    "    \n",
    "    final_result = final_permutation(right + left)\n",
    "    return final_result, results"
   ],
   "id": "202a2506ecf66aae",
   "outputs": [],
   "execution_count": 19
  },
  {
   "metadata": {
    "ExecuteTime": {
     "end_time": "2025-03-04T22:18:10.957541Z",
     "start_time": "2025-03-04T22:18:10.937128Z"
    }
   },
   "cell_type": "code",
   "source": [
    "encrypted_message, res = cipher_DES(binary_message, binary_key)\n",
    "print(f\"Encrypted message: {encrypted_message.to01()}\")"
   ],
   "id": "dd440e1f8af74327",
   "outputs": [
    {
     "name": "stdout",
     "output_type": "stream",
     "text": [
      "Encrypted message: 1000010000111111110111101110011010011111011001000001101100000111\n"
     ]
    }
   ],
   "execution_count": 20
  },
  {
   "metadata": {
    "ExecuteTime": {
     "end_time": "2025-03-04T22:18:10.992462Z",
     "start_time": "2025-03-04T22:18:10.983635Z"
    }
   },
   "cell_type": "code",
   "source": [
    "decrypted_message, _ = cipher_DES(encrypted_message, binary_key, encrypt=False)\n",
    "print(f\"Decrypted message: {decrypted_message.to01()}\")"
   ],
   "id": "a1fd054d774d09e9",
   "outputs": [
    {
     "name": "stdout",
     "output_type": "stream",
     "text": [
      "Decrypted message: 0000000110100010101100111100010011010101111001100000011111111000\n"
     ]
    }
   ],
   "execution_count": 21
  },
  {
   "metadata": {
    "ExecuteTime": {
     "end_time": "2025-03-04T22:18:11.028852Z",
     "start_time": "2025-03-04T22:18:11.018232Z"
    }
   },
   "cell_type": "code",
   "source": [
    "print(f\"Encrypted message (hex): {bin_to_hex(encrypted_message)}\")\n",
    "print(f\"Decrypted message (hex): {bin_to_hex(decrypted_message)}\")"
   ],
   "id": "59269c1464922669",
   "outputs": [
    {
     "name": "stdout",
     "output_type": "stream",
     "text": [
      "Encrypted message (hex): 84 3F DE E6 9F 64 1B 07\n",
      "Decrypted message (hex): 01 A2 B3 C4 D5 E6 07 F8\n"
     ]
    }
   ],
   "execution_count": 22
  },
  {
   "metadata": {
    "ExecuteTime": {
     "end_time": "2025-03-04T22:18:11.063932Z",
     "start_time": "2025-03-04T22:18:11.047834Z"
    }
   },
   "cell_type": "code",
   "source": [
    "# in ra tất cả các bước trong quá trình mã hóa\n",
    "for i, (left, right, key) in enumerate(res):\n",
    "    print(f\"Round {i + 1}:\")\n",
    "    print(f\"Left: {left.to01()}\")\n",
    "    print(f\"Right: {right.to01()}\")\n",
    "    print(f\"Key: {key.to01()}\")\n",
    "    print()"
   ],
   "id": "1f8a147e8313ecb4",
   "outputs": [
    {
     "name": "stdout",
     "output_type": "stream",
     "text": [
      "Round 1:\n",
      "Left: 10111110101001101000000001100110\n",
      "Right: 10010111011110100110001001010101\n",
      "Key: 000110110000001011101111111111000111000001110010\n",
      "\n",
      "Round 2:\n",
      "Left: 10010111011110100110001001010101\n",
      "Right: 00011110101011111011111110110111\n",
      "Key: 011110011010111011011001110110111100100111100101\n",
      "\n",
      "Round 3:\n",
      "Left: 00011110101011111011111110110111\n",
      "Right: 11110101001001101100010011000110\n",
      "Key: 010101011111110010001010010000101100111110011001\n",
      "\n",
      "Round 4:\n",
      "Left: 11110101001001101100010011000110\n",
      "Right: 01000111111001010101111011101110\n",
      "Key: 011100101010110111010110110110110011010100011101\n",
      "\n",
      "Round 5:\n",
      "Left: 01000111111001010101111011101110\n",
      "Right: 10001011101000011010001111000000\n",
      "Key: 011111001110110000000111111010110101001110101000\n",
      "\n",
      "Round 6:\n",
      "Left: 10001011101000011010001111000000\n",
      "Right: 01010001001000101101110111110111\n",
      "Key: 011000111010010100111110010100000111101100101111\n",
      "\n",
      "Round 7:\n",
      "Left: 01010001001000101101110111110111\n",
      "Right: 00100010000100001000110001011000\n",
      "Key: 111011001000010010110111111101100001100010111100\n",
      "\n",
      "Round 8:\n",
      "Left: 00100010000100001000110001011000\n",
      "Right: 00100110111000011101001000111010\n",
      "Key: 111101111000101000111010110000010011101111111011\n",
      "\n",
      "Round 9:\n",
      "Left: 00100110111000011101001000111010\n",
      "Right: 01111111000111010111000110000110\n",
      "Key: 111000001101101111101011111011011110011110000001\n",
      "\n",
      "Round 10:\n",
      "Left: 01111111000111010111000110000110\n",
      "Right: 00101100000010110001101010001010\n",
      "Key: 101100011111001101000111101110100100011001001111\n",
      "\n",
      "Round 11:\n",
      "Left: 00101100000010110001101010001010\n",
      "Right: 11000011111001001111110101001000\n",
      "Key: 001000010101111111010011110111101101001110000110\n",
      "\n",
      "Round 12:\n",
      "Left: 11000011111001001111110101001000\n",
      "Right: 00010000001000001111000001101001\n",
      "Key: 011101010111000111110101100101000110011111101001\n",
      "\n",
      "Round 13:\n",
      "Left: 00010000001000001111000001101001\n",
      "Right: 01010001111000000011000001110001\n",
      "Key: 100101111100010111010001111110101011101001000001\n",
      "\n",
      "Round 14:\n",
      "Left: 01010001111000000011000001110001\n",
      "Right: 11100100011110000111101010001000\n",
      "Key: 010111110100001110110111111100101110011100111010\n",
      "\n",
      "Round 15:\n",
      "Left: 11100100011110000111101010001000\n",
      "Right: 00011101001010100101011011011110\n",
      "Key: 101111111001000110001101001111010011111100001010\n",
      "\n",
      "Round 16:\n",
      "Left: 00011101001010100101011011011110\n",
      "Right: 00101100010101101011111111010010\n",
      "Key: 110010110011110110001011000011100001011111110101\n",
      "\n"
     ]
    }
   ],
   "execution_count": 23
  },
  {
   "metadata": {
    "ExecuteTime": {
     "end_time": "2025-03-04T22:18:12.468610Z",
     "start_time": "2025-03-04T22:18:11.095225Z"
    }
   },
   "cell_type": "code",
   "source": [
    "# in kết quả ra file excel gồm các cột: Round, Left, Right, Key\n",
    "import pandas as pd\n",
    "res = [(left.to01(), right.to01(), key.to01()) for left, right, key in res]\n",
    "df = pd.DataFrame(res, columns=[\"Left\", \"Right\", \"Key\"])\n",
    "df.to_excel(\"DES_rounds.xlsx\")"
   ],
   "id": "65532867db9b9571",
   "outputs": [],
   "execution_count": 24
  },
  {
   "metadata": {},
   "cell_type": "markdown",
   "source": "# **2. Modes DES (ECB, CBC)**",
   "id": "97c1a0659b2dcf08"
  },
  {
   "metadata": {
    "ExecuteTime": {
     "end_time": "2025-03-04T22:18:12.509898Z",
     "start_time": "2025-03-04T22:18:12.494754Z"
    }
   },
   "cell_type": "code",
   "source": [
    "\"\"\"Viết hàm chuyển chuỗi thành dạng nhị phân dưới dạng các block 64 bit\"\"\"\n",
    "def str_to_block_64_bit(string):\n",
    "    binary_string = bitarray()\n",
    "    binary_string.frombytes(string.encode(\"ISO-8859-1\"))\n",
    "    padding = 64 - len(binary_string) % 64\n",
    "    binary_string += bitarray(padding * \"0\")\n",
    "    return [binary_string[i:i+64] for i in range(0, len(binary_string), 64)]"
   ],
   "id": "ef278abcf63640e3",
   "outputs": [],
   "execution_count": 25
  },
  {
   "metadata": {
    "ExecuteTime": {
     "end_time": "2025-03-04T22:18:12.615293Z",
     "start_time": "2025-03-04T22:18:12.605550Z"
    }
   },
   "cell_type": "code",
   "source": [
    "def block_64_bit_to_str(blocks):\n",
    "    binary_string = bitarray()\n",
    "    for block in blocks:\n",
    "        binary_string += block\n",
    "    return binary_string.tobytes().decode(\"ISO-8859-1\")"
   ],
   "id": "b699e89dcf48262a",
   "outputs": [],
   "execution_count": 26
  },
  {
   "metadata": {
    "ExecuteTime": {
     "end_time": "2025-03-04T22:18:12.692831Z",
     "start_time": "2025-03-04T22:18:12.682699Z"
    }
   },
   "cell_type": "code",
   "source": [
    "# DES в режимах ECB\n",
    "def DES_mode_ECB(message, key, encrypt=True):\n",
    "    blocks = str_to_block_64_bit(message)\n",
    "    res_blocks = []\n",
    "    for block in blocks:\n",
    "        res_block, _ = cipher_DES(block, key, encrypt)\n",
    "        res_blocks.append(res_block)\n",
    "    \n",
    "    result_hex = ' '.join([bin_to_hex(block) for block in res_blocks])\n",
    "    result_str = block_64_bit_to_str(res_blocks)\n",
    "    return result_hex, result_str"
   ],
   "id": "22cc1b108e72f9db",
   "outputs": [],
   "execution_count": 27
  },
  {
   "metadata": {
    "ExecuteTime": {
     "end_time": "2025-03-04T22:18:12.785367Z",
     "start_time": "2025-03-04T22:18:12.739137Z"
    }
   },
   "cell_type": "code",
   "source": [
    "message = \"Hello, world! My name is DES. DES is a symmetric-key algorithm for the encryption of electronic data.\"\n",
    "blocks = str_to_block_64_bit(message)\n",
    "encrypted_message_hex_ECB, encrypted_message_str_ECB = DES_mode_ECB(message, binary_key, encrypt=True)\n",
    "decrypted_message_hex_ECB, decrypted_message_str_ECB = DES_mode_ECB(encrypted_message_str_ECB, binary_key, encrypt=False)"
   ],
   "id": "aa12af82b1c355d6",
   "outputs": [],
   "execution_count": 28
  },
  {
   "metadata": {
    "ExecuteTime": {
     "end_time": "2025-03-04T22:18:12.848381Z",
     "start_time": "2025-03-04T22:18:12.832996Z"
    }
   },
   "cell_type": "code",
   "source": [
    "print(f\"Encrypted message by mode ECB (hex): {encrypted_message_hex_ECB}\")\n",
    "print(f\"Encrypted message by mode ECB (str): {encrypted_message_str_ECB}\")  \n",
    "print(f\"Decrypted message by mode ECB (hex): {decrypted_message_hex_ECB}\")\n",
    "print(f\"Decrypted message by mode ECB (str): {decrypted_message_str_ECB}\")"
   ],
   "id": "203f8a267123ab4c",
   "outputs": [
    {
     "name": "stdout",
     "output_type": "stream",
     "text": [
      "Encrypted message by mode ECB (hex): 73 22 23 38 BD 44 D3 05 4A D0 AE 85 BF F1 4D 57 24 4D AF 61 9C 4B 09 EF 2C 27 9A A2 E0 4C CF 05 24 A5 B3 2F 1D E8 3F 01 65 FB BD 0A F4 32 22 7E D7 05 87 C9 9E 17 CE 78 C0 42 39 1E 0D 6A E7 5A 64 9F 48 D2 E0 44 73 14 B7 7B 01 22 9E 17 87 03 F6 75 03 E7 45 AF 59 D8 DC 6E D9 21 25 F4 B1 03 DE C0 8C CE D2 79 20 70\n",
      "Encrypted message by mode ECB (str): s\"#8½DÓ\u0005JÐ®¿ñMW$M¯aK\tï,'¢àLÏ\u0005$¥³/\u001Dè?\u0001eû½\n",
      "jçZdHÒàDs\u0014·{\u0001\"\u0017\u0003öu\u0003çE¯YØÜnÙ!%ô±\u0003ÞÀÎÒy p\n",
      "Decrypted message by mode ECB (hex): 48 65 6C 6C 6F 2C 20 77 6F 72 6C 64 21 20 4D 79 20 6E 61 6D 65 20 69 73 20 44 45 53 2E 20 44 45 53 20 69 73 20 61 20 73 79 6D 6D 65 74 72 69 63 2D 6B 65 79 20 61 6C 67 6F 72 69 74 68 6D 20 66 6F 72 20 74 68 65 20 65 6E 63 72 79 70 74 69 6F 6E 20 6F 66 20 65 6C 65 63 74 72 6F 6E 69 63 20 64 61 74 61 2E 00 00 00 9E FD FC 5C 2B 5C D5 85\n",
      "Decrypted message by mode ECB (str): Hello, world! My name is DES. DES is a symmetric-key algorithm for the encryption of electronic data.\u0000\u0000\u0000ýü\\+\\Õ\n"
     ]
    }
   ],
   "execution_count": 29
  },
  {
   "metadata": {
    "ExecuteTime": {
     "end_time": "2025-03-04T22:18:13.031496Z",
     "start_time": "2025-03-04T22:18:13.007615Z"
    }
   },
   "cell_type": "code",
   "source": [
    "#  DES в режимах CBC\n",
    "def DES_mode_CBC(message, key, iv, encrypt=True):\n",
    "    blocks = str_to_block_64_bit(message)\n",
    "    res_blocks = []\n",
    "    previous_block = iv\n",
    "    for block in blocks:\n",
    "        \"\"\" Encrypt \"\"\"\n",
    "        block = block ^ previous_block if encrypt else block\n",
    "        res_block, _ = cipher_DES(block, key, encrypt)\n",
    "        \"\"\" Decrypt \"\"\"\n",
    "        res_block = res_block ^ previous_block if not encrypt else res_block\n",
    "        res_blocks.append(res_block)\n",
    "    \n",
    "    result_hex = ' '.join([bin_to_hex(block) for block in res_blocks])\n",
    "    result_str = block_64_bit_to_str(res_blocks)\n",
    "    return result_hex, result_str\n"
   ],
   "id": "f7428f5e89810f4a",
   "outputs": [],
   "execution_count": 30
  },
  {
   "metadata": {
    "ExecuteTime": {
     "end_time": "2025-03-04T22:18:13.221824Z",
     "start_time": "2025-03-04T22:18:13.189406Z"
    }
   },
   "cell_type": "code",
   "source": [
    "\"\"\"random iv 64 bit\"\"\"\n",
    "import random\n",
    "iv = bitarray()\n",
    "for _ in range(64):\n",
    "    iv.append(random.choice([0, 1]))\n",
    "\n",
    "encrypted_message_hex_CBC, encrypted_message_str_CBC = DES_mode_CBC(message, binary_key, iv, encrypt=True)\n",
    "decrypted_message_hex_CBC, decrypted_message_str_CBC = DES_mode_CBC(encrypted_message_str_CBC, binary_key, iv, encrypt=False)\n"
   ],
   "id": "4f3cdbf597593a4c",
   "outputs": [],
   "execution_count": 31
  },
  {
   "metadata": {
    "ExecuteTime": {
     "end_time": "2025-03-04T22:18:13.344463Z",
     "start_time": "2025-03-04T22:18:13.328944Z"
    }
   },
   "cell_type": "code",
   "source": [
    "print(f\"Encrypted message by mode CBC (hex): {encrypted_message_hex_CBC}\")\n",
    "print(f\"Encrypted message by mode CBC (str): {encrypted_message_str_CBC}\")\n",
    "print(f\"Decrypted message by mode CBC (hex): {decrypted_message_hex_CBC}\")\n",
    "print(f\"Decrypted message by mode CBC (str): {decrypted_message_str_CBC}\")"
   ],
   "id": "e5458aecefc678e9",
   "outputs": [
    {
     "name": "stdout",
     "output_type": "stream",
     "text": [
      "Encrypted message by mode CBC (hex): 6F 0C 3C 02 44 5D 62 6B 75 19 99 21 E6 51 EA 83 EF 0D EE D6 9A 93 11 76 15 EC D6 18 B8 23 0C 7E 24 F6 5A 43 4D 7F 5C E5 0C CB 76 9A E7 B7 4C 2D DB 86 9D 7F CC AD 1D 86 5B D3 02 CC 0E 94 61 12 CE 55 D4 BF 83 4B 29 9E 4A 90 1B 66 2C 1C 67 4A 31 20 F6 51 F4 27 59 34 91 8D 97 49 89 6F 39 90 5D 35 C6 60 1C 3C D7 5B\n",
      "îÖ\u0011v\u0015ìÖ\u0018¸#\f~$öZCM\\å\fËvç·L-ÛÌ­\u001D[Ó\u0002Ì\u000Ea\u0012ÎUÔ¿K)J\u001Bf,\u001CgJ1 öQô'Y4Io9]5Æ`\u001C<×[\n",
      "Decrypted message by mode CBC (hex): 48 65 6C 6C 6F 2C 20 77 6F 72 6C 64 21 20 4D 79 20 6E 61 6D 65 20 69 73 20 44 45 53 2E 20 44 45 53 20 69 73 20 61 20 73 79 6D 6D 65 74 72 69 63 2D 6B 65 79 20 61 6C 67 6F 72 69 74 68 6D 20 66 6F 72 20 74 68 65 20 65 6E 63 72 79 70 74 69 6F 6E 20 6F 66 20 65 6C 65 63 74 72 6F 6E 69 63 20 64 61 74 61 2E 00 00 00 4D 18 C4 E5 D5 01 12 E5\n",
      "Decrypted message by mode CBC (str): Hello, world! My name is DES. DES is a symmetric-key algorithm for the encryption of electronic data.\u0000\u0000\u0000M\u0018ÄåÕ\u0001\u0012å\n"
     ]
    }
   ],
   "execution_count": 32
  },
  {
   "metadata": {
    "ExecuteTime": {
     "end_time": "2025-03-04T22:18:13.433985Z",
     "start_time": "2025-03-04T22:18:13.419992Z"
    }
   },
   "cell_type": "code",
   "source": [
    "# in ra tất cả kết quả của hai chế độ ECB và CBC ra file text\n",
    "with open(\"DES_modes_results.txt\", \"w\", encoding=\"utf-8\") as file:\n",
    "    file.write(f\"Message: {message}\\n\")\n",
    "    file.write(f\"Key: {bin_to_hex(binary_key)}\\n\")\n",
    "    file.write(f\"IV: {bin_to_hex(iv)}\\n\")\n",
    "\n",
    "    file.write(\"\\nDES mode ECB:\\n\")\n",
    "    file.write(\"Encrypted message by mode ECB (hex):\\n\")\n",
    "    for i in range(0, len(encrypted_message_hex_ECB), 63):\n",
    "        file.write(encrypted_message_hex_ECB[i:i+63] + \"\\n\")\n",
    "    file.write(f\"\\nEncrypted message by mode ECB (str): {encrypted_message_str_ECB}\\n\")\n",
    "    \n",
    "    file.write(\"\\n\\nDecrypted message by mode ECB (hex):\\n\")\n",
    "    for i in range(0, len(decrypted_message_hex_ECB), 63):\n",
    "        file.write(decrypted_message_hex_ECB[i:i+63] + \"\\n\")\n",
    "    file.write(f\"\\nDecrypted message by mode ECB (str): {decrypted_message_str_ECB}\\n\")\n",
    "    \n",
    "    file.write(\"\\nDES mode CBC:\\n\")\n",
    "    file.write(\"Encrypted message by mode CBC (hex):\\n\")\n",
    "    for i in range(0, len(encrypted_message_hex_CBC), 63):\n",
    "        file.write(encrypted_message_hex_CBC[i:i+63] + \"\\n\")\n",
    "    file.write(f\"\\nEncrypted message by mode CBC (str): {encrypted_message_str_CBC}\\n\")\n",
    "    \n",
    "    file.write(\"\\nEncrypted message by mode CBC (hex):\\n\")\n",
    "    for i in range(0, len(decrypted_message_hex_CBC), 63):\n",
    "        file.write(decrypted_message_hex_CBC[i:i+63] + \"\\n\")\n",
    "    file.write(f\"\\nDecrypted message by mode CBC (str): {decrypted_message_str_CBC}\\n\")"
   ],
   "id": "11aa2b09bb699fb5",
   "outputs": [],
   "execution_count": 33
  },
  {
   "metadata": {},
   "cell_type": "markdown",
   "source": "# **3. 3-DES (Triple Data Encryption Standard)**",
   "id": "b31d5ebfe2fbe1e9"
  },
  {
   "metadata": {
    "ExecuteTime": {
     "end_time": "2025-03-04T22:18:13.529935Z",
     "start_time": "2025-03-04T22:18:13.520822Z"
    }
   },
   "cell_type": "code",
   "source": [
    "message = \"Hello, world! My name is 3-DES. 3-DES is a symmetric-key algorithm for the encryption of electronic data.\"\n",
    "key1 = \"13 34 57 79 9B BC DF F1\"\n",
    "key2 = \"1F 32 45 67 89 AB CD EF\"\n",
    "key3 = \"2B 4D 6F 81 A3 C5 E7 F9\""
   ],
   "id": "2264c60fad046eaa",
   "outputs": [],
   "execution_count": 34
  },
  {
   "metadata": {
    "ExecuteTime": {
     "end_time": "2025-03-04T22:18:13.612646Z",
     "start_time": "2025-03-04T22:18:13.601237Z"
    }
   },
   "cell_type": "code",
   "source": [
    "def DES_EDE3(message, key1, key2, key3, encrypt=True):\n",
    "    # kiểm tra key1 nếu là hex thì chuyển thành binary\n",
    "    if isinstance(key1, str):\n",
    "        key1 = hex_to_bin(key1)\n",
    "    if isinstance(key2, str):\n",
    "        key2 = hex_to_bin(key2)\n",
    "    if isinstance(key3, str):\n",
    "        key3 = hex_to_bin(key3)\n",
    "    result = ''\n",
    "    if encrypt:\n",
    "        result, _ = cipher_DES(message, key1)\n",
    "        result, _ = cipher_DES(result, key2, encrypt=False)\n",
    "        result, _ = cipher_DES(result, key3)\n",
    "    else:\n",
    "        result, _ = cipher_DES(message, key3, encrypt=False)\n",
    "        result, _ = cipher_DES(result, key2)\n",
    "        result, _ = cipher_DES(result, key1, encrypt=False)\n",
    "    return result"
   ],
   "id": "5d2b0b9dcc11c786",
   "outputs": [],
   "execution_count": 35
  },
  {
   "metadata": {
    "ExecuteTime": {
     "end_time": "2025-03-04T22:18:13.678230Z",
     "start_time": "2025-03-04T22:18:13.658474Z"
    }
   },
   "cell_type": "code",
   "source": [
    "def DES_EDE3_mode_ECB(message, key1, key2, key3, encrypt=True):\n",
    "    blocks = str_to_block_64_bit(message)\n",
    "    res_blocks = []\n",
    "    for block in blocks:\n",
    "        res_block = DES_EDE3(block, key1, key2, key3, encrypt)\n",
    "        res_blocks.append(res_block)\n",
    "    \n",
    "    result_hex = ' '.join([bin_to_hex(block) for block in res_blocks])\n",
    "    result_str = block_64_bit_to_str(res_blocks)\n",
    "    return result_hex, result_str"
   ],
   "id": "2fa1b28482a07fc",
   "outputs": [],
   "execution_count": 36
  },
  {
   "metadata": {
    "ExecuteTime": {
     "end_time": "2025-03-04T22:18:13.886720Z",
     "start_time": "2025-03-04T22:18:13.787432Z"
    }
   },
   "cell_type": "code",
   "source": [
    "encrypted_message_hex_EDE3_ECB, encrypted_message_str_EDE3_ECB = DES_EDE3_mode_ECB(message, key1, key2, key3, encrypt=True)\n",
    "decrypted_message_hex_EDE3_ECB, decrypted_message_str_EDE3_ECB = DES_EDE3_mode_ECB(encrypted_message_str_EDE3_ECB, key1, key2, key3, encrypt=False)"
   ],
   "id": "5aeca9088a5f6a41",
   "outputs": [],
   "execution_count": 37
  },
  {
   "metadata": {
    "ExecuteTime": {
     "end_time": "2025-03-04T22:18:13.944218Z",
     "start_time": "2025-03-04T22:18:13.927942Z"
    }
   },
   "cell_type": "code",
   "source": [
    "print(f\"Encrypted message by 3-DES (hex): {encrypted_message_hex_EDE3_ECB}\")\n",
    "print(f\"Encrypted message by 3-DES (str): {encrypted_message_str_EDE3_ECB}\")\n",
    "print(f\"Decrypted message by 3-DES (hex): {decrypted_message_hex_EDE3_ECB}\")\n",
    "print(f\"Decrypted message by 3-DES (str): {decrypted_message_str_EDE3_ECB}\")"
   ],
   "id": "444ce10240d65299",
   "outputs": [
    {
     "name": "stdout",
     "output_type": "stream",
     "text": [
      "Encrypted message by 3-DES (hex): 29 68 10 C9 DF FD E0 78 A3 D6 0E 50 9A B0 70 B9 31 88 F1 4F 23 10 19 93 85 BC F7 E5 DE 89 15 E5 FB DF 6E 4A C6 D4 06 87 DA EF 90 51 1B 09 BC 3E DB E4 3E BA DB 12 9B CA B0 17 1A 0F D7 A3 82 0E DB 42 3A C3 89 0F 61 A7 82 CF BB ED 3B 5E F4 7A 30 61 96 6A C4 15 A5 77 3A E8 CA 01 2B 94 C1 93 45 24 89 D1 18 9C 5E 23 8B 79 79 78 DB F7 8B 6A\n",
      "Encrypted message by 3-DES (str): )h\u0010Éßýàx£Ö\u000EP°p¹1ñO#\u0010\u0019¼÷åÞ\u0015åûßnJÆÔ\u0006ÚïQ\u001B\t¼>Ûä>ºÛ\u0012Ê°\u0017\u001A\u000F×£\u000EÛB:Ã\u000Fa§Ï»í;^ôz0ajÄ\u0015¥w:èÊ\u0001+ÁE$Ñ\u0018^#yyxÛ÷j\n",
      "Decrypted message by 3-DES (hex): 48 65 6C 6C 6F 2C 20 77 6F 72 6C 64 21 20 4D 79 20 6E 61 6D 65 20 69 73 20 33 2D 44 45 53 2E 20 33 2D 44 45 53 20 69 73 20 61 20 73 79 6D 6D 65 74 72 69 63 2D 6B 65 79 20 61 6C 67 6F 72 69 74 68 6D 20 66 6F 72 20 74 68 65 20 65 6E 63 72 79 70 74 69 6F 6E 20 6F 66 20 65 6C 65 63 74 72 6F 6E 69 63 20 64 61 74 61 2E 00 00 00 00 00 00 00 20 2E 58 7C 8A CE 46 C0\n",
      "Decrypted message by 3-DES (str): Hello, world! My name is 3-DES. 3-DES is a symmetric-key algorithm for the encryption of electronic data.\u0000\u0000\u0000\u0000\u0000\u0000\u0000 .X|ÎFÀ\n"
     ]
    }
   ],
   "execution_count": 38
  },
  {
   "metadata": {
    "ExecuteTime": {
     "end_time": "2025-03-04T22:18:14.016316Z",
     "start_time": "2025-03-04T22:18:14.005545Z"
    }
   },
   "cell_type": "code",
   "source": [
    "def DES_EDE2(message, key1, key2, encrypt=True):\n",
    "    if isinstance(key1, str):\n",
    "        key1 = hex_to_bin(key1)\n",
    "    if isinstance(key2, str):\n",
    "        key2 = hex_to_bin(key2)\n",
    "    result = ''\n",
    "    if encrypt:\n",
    "        result, _ = cipher_DES(message, key1)\n",
    "        result, _ = cipher_DES(result, key2, encrypt=False)\n",
    "        result, _ = cipher_DES(result, key1)\n",
    "    else:\n",
    "        result, _ = cipher_DES(message, key1, encrypt=False)\n",
    "        result, _ = cipher_DES(result, key2)\n",
    "        result, _ = cipher_DES(result, key1, encrypt=False)\n",
    "    return result"
   ],
   "id": "cb13dc8fda929755",
   "outputs": [],
   "execution_count": 39
  },
  {
   "metadata": {
    "ExecuteTime": {
     "end_time": "2025-03-04T22:18:14.074368Z",
     "start_time": "2025-03-04T22:18:14.063182Z"
    }
   },
   "cell_type": "code",
   "source": [
    "def DES_EDE2_mode_ECB(message, key1, key2, encrypt=True):\n",
    "    blocks = str_to_block_64_bit(message)\n",
    "    res_blocks = []\n",
    "    for block in blocks:\n",
    "        res_block = DES_EDE2(block, key1, key2, encrypt)\n",
    "        res_blocks.append(res_block)\n",
    "    \n",
    "    result_hex = ' '.join([bin_to_hex(block) for block in res_blocks])\n",
    "    result_str = block_64_bit_to_str(res_blocks)\n",
    "    return result_hex, result_str"
   ],
   "id": "bdd6c42d7a8f6547",
   "outputs": [],
   "execution_count": 40
  },
  {
   "metadata": {
    "ExecuteTime": {
     "end_time": "2025-03-04T22:18:14.229872Z",
     "start_time": "2025-03-04T22:18:14.104722Z"
    }
   },
   "cell_type": "code",
   "source": [
    "encrypted_message_hex_EDE2_ECB, encrypted_message_str_EDE2_ECB = DES_EDE2_mode_ECB(message, key1, key2, encrypt=True)\n",
    "decrypted_message_hex_EDE2_ECB, decrypted_message_str_EDE2_ECB = DES_EDE2_mode_ECB(encrypted_message_str_EDE2_ECB, key1, key2, encrypt=False)"
   ],
   "id": "e943fceba279036a",
   "outputs": [],
   "execution_count": 41
  },
  {
   "metadata": {
    "ExecuteTime": {
     "end_time": "2025-03-04T22:18:14.275330Z",
     "start_time": "2025-03-04T22:18:14.262342Z"
    }
   },
   "cell_type": "code",
   "source": [
    "print(f\"Encrypted message by 2-DES (hex): {encrypted_message_hex_EDE2_ECB}\")\n",
    "print(f\"Encrypted message by 2-DES (str): {encrypted_message_str_EDE2_ECB}\")\n",
    "print(f\"Decrypted message by 2-DES (hex): {decrypted_message_hex_EDE2_ECB}\")\n",
    "print(f\"Decrypted message by 2-DES (str): {decrypted_message_str_EDE2_ECB}\")"
   ],
   "id": "c5d78165d28c0842",
   "outputs": [
    {
     "name": "stdout",
     "output_type": "stream",
     "text": [
      "Encrypted message by 2-DES (hex): E9 1B 70 36 E0 48 F5 02 85 AE 1D 6E DD AC 7F EA 9C 43 13 C6 C5 8E B3 8B C8 95 2A 97 A2 EB AE 3A 53 4C D9 FE 66 59 34 E9 5C 14 0F 8E 1B 5B D9 89 FA 73 3D 17 C4 CF B8 B2 7E C6 81 73 7E 8A BB 13 48 E6 E9 7B DD B1 9A 02 F9 05 83 6D EA DF 4F DA 20 92 1A ED F7 FF 15 5F FA 4F A1 C6 38 EA D8 6E 94 0F D9 92 F0 D1 EE 18 A0 0A 0E A5 58 E8 AA 6D\n",
      "Encrypted message by 2-DES (str): é\u001Bp6àHõ\u0002®\u001DnÝ¬êC\u0013ÆÅ³È*¢ë®:SLÙþfY4é\\\u0014\u000F\u001B[Ùús=\u0017ÄÏ¸²~Æs~»\u0013Hæé{Ý±\u0002ù\u0005mêßOÚ \u001Aí÷ÿ\u0015_úO¡Æ8êØn\u000FÙðÑî\u0018 \n",
      "\u000E¥Xèªm\n",
      "Decrypted message by 2-DES (hex): 48 65 6C 6C 6F 2C 20 77 6F 72 6C 64 21 20 4D 79 20 6E 61 6D 65 20 69 73 20 33 2D 44 45 53 2E 20 33 2D 44 45 53 20 69 73 20 61 20 73 79 6D 6D 65 74 72 69 63 2D 6B 65 79 20 61 6C 67 6F 72 69 74 68 6D 20 66 6F 72 20 74 68 65 20 65 6E 63 72 79 70 74 69 6F 6E 20 6F 66 20 65 6C 65 63 74 72 6F 6E 69 63 20 64 61 74 61 2E 00 00 00 00 00 00 00 88 E6 F1 FE 40 CA 17 E7\n",
      "Decrypted message by 2-DES (str): Hello, world! My name is 3-DES. 3-DES is a symmetric-key algorithm for the encryption of electronic data.\u0000\u0000\u0000\u0000\u0000\u0000\u0000æñþ@Ê\u0017ç\n"
     ]
    }
   ],
   "execution_count": 42
  },
  {
   "metadata": {
    "ExecuteTime": {
     "end_time": "2025-03-04T22:18:14.386524Z",
     "start_time": "2025-03-04T22:18:14.374145Z"
    }
   },
   "cell_type": "code",
   "source": [
    "def DES_EEE3(message, key1, key2, key3, encrypt=True):\n",
    "    if isinstance(key1, str):\n",
    "        key1 = hex_to_bin(key1)\n",
    "    if isinstance(key2, str):\n",
    "        key2 = hex_to_bin(key2)\n",
    "    if isinstance(key3, str):\n",
    "        key3 = hex_to_bin(key3)\n",
    "    result = ''\n",
    "    if encrypt:\n",
    "        result, _ = cipher_DES(message, key1)\n",
    "        result, _ = cipher_DES(result, key2)\n",
    "        result, _ = cipher_DES(result, key3)\n",
    "    else:\n",
    "        result, _ = cipher_DES(message, key3, encrypt=False)\n",
    "        result, _ = cipher_DES(result, key2, encrypt=False)\n",
    "        result, _ = cipher_DES(result, key1, encrypt=False)\n",
    "    return result"
   ],
   "id": "cae361561279f63e",
   "outputs": [],
   "execution_count": 43
  },
  {
   "metadata": {
    "ExecuteTime": {
     "end_time": "2025-03-04T22:18:14.515053Z",
     "start_time": "2025-03-04T22:18:14.504791Z"
    }
   },
   "cell_type": "code",
   "source": [
    "def DES_EEE3_mode_ECB(message, key1, key2, key3, encrypt=True):\n",
    "    blocks = str_to_block_64_bit(message)\n",
    "    res_blocks = []\n",
    "    for block in blocks:\n",
    "        res_block = DES_EEE3(block, key1, key2, key3, encrypt)\n",
    "        res_blocks.append(res_block)\n",
    "    \n",
    "    result_hex = ' '.join([bin_to_hex(block) for block in res_blocks])\n",
    "    result_str = block_64_bit_to_str(res_blocks)\n",
    "    return result_hex, result_str"
   ],
   "id": "767419e611a5243b",
   "outputs": [],
   "execution_count": 44
  },
  {
   "metadata": {
    "ExecuteTime": {
     "end_time": "2025-03-04T22:18:14.758423Z",
     "start_time": "2025-03-04T22:18:14.610965Z"
    }
   },
   "cell_type": "code",
   "source": [
    "encrypted_message_hex_EEE3_ECB, encrypted_message_str_EEE3_ECB = DES_EEE3_mode_ECB(message, key1, key2, key3, encrypt=True)\n",
    "decrypted_message_hex_EEE3_ECB, decrypted_message_str_EEE3_ECB = DES_EEE3_mode_ECB(encrypted_message_str_EEE3_ECB, key1, key2, key3, encrypt=False)"
   ],
   "id": "a044a3b3f5079de3",
   "outputs": [],
   "execution_count": 45
  },
  {
   "metadata": {
    "ExecuteTime": {
     "end_time": "2025-03-04T22:18:14.781241Z",
     "start_time": "2025-03-04T22:18:14.771087Z"
    }
   },
   "cell_type": "code",
   "source": [
    "print(f\"Encrypted message by 3-DES (EEE) (hex): {encrypted_message_hex_EEE3_ECB}\")\n",
    "print(f\"Encrypted message by 3-DES (EEE) (str): {encrypted_message_str_EEE3_ECB}\")\n",
    "print(f\"Decrypted message by 3-DES (EEE) (hex): {decrypted_message_hex_EEE3_ECB}\")\n",
    "print(f\"Decrypted message by 3-DES (EEE) (str): {decrypted_message_str_EEE3_ECB}\")"
   ],
   "id": "9e80e8b8465eec71",
   "outputs": [
    {
     "name": "stdout",
     "output_type": "stream",
     "text": [
      "Encrypted message by 3-DES (EEE) (hex): 58 64 6D 9C 1F 3A 24 3C C8 19 75 F2 B7 EF 86 95 4D BE 6F 62 3B B8 D5 70 B9 BF 76 26 2E 07 66 12 1F 44 B1 69 F9 4E C7 93 A7 55 E3 89 96 3C CB A6 20 34 1A 7F C1 9B CA 0A 1F 9A 77 35 4E 4A 94 42 22 8E 29 83 C3 BC D8 F3 59 36 B3 CA DF A3 57 65 12 95 6D 4F 67 DF 7F 91 50 18 2D 48 50 F6 FD 33 3B 16 FF A5 74 AB F3 D7 7F 8B DA CC 63 EE 7E 79\n",
      "Encrypted message by 3-DES (EEE) (str): Xdm\u001F:$<È\u0019uò·ïM¾ob;¸Õp¹¿v&.\u0007f\u0012\u001FD±iùNÇ§Uã<Ë¦ 4\u001AÁÊ\n",
      "\u001Fw5NJB\")Ã¼ØóY6³Êß£We\u0012mOgßP\u0018-HPöý3;\u0016ÿ¥t«ó×ÚÌcî~y\n",
      "Decrypted message by 3-DES (EEE) (hex): 48 65 6C 6C 6F 2C 20 77 6F 72 6C 64 21 20 4D 79 20 6E 61 6D 65 20 69 73 20 33 2D 44 45 53 2E 20 33 2D 44 45 53 20 69 73 20 61 20 73 79 6D 6D 65 74 72 69 63 2D 6B 65 79 20 61 6C 67 6F 72 69 74 68 6D 20 66 6F 72 20 74 68 65 20 65 6E 63 72 79 70 74 69 6F 6E 20 6F 66 20 65 6C 65 63 74 72 6F 6E 69 63 20 64 61 74 61 2E 00 00 00 00 00 00 00 51 68 C7 8F 88 CE B2 3A\n",
      "Decrypted message by 3-DES (EEE) (str): Hello, world! My name is 3-DES. 3-DES is a symmetric-key algorithm for the encryption of electronic data.\u0000\u0000\u0000\u0000\u0000\u0000\u0000QhÇÎ²:\n"
     ]
    }
   ],
   "execution_count": 46
  },
  {
   "metadata": {
    "ExecuteTime": {
     "end_time": "2025-03-04T22:18:14.883318Z",
     "start_time": "2025-03-04T22:18:14.871384Z"
    }
   },
   "cell_type": "code",
   "source": [
    "def DES_EEE2(message, key1, key2, encrypt=True):\n",
    "    if isinstance(key1, str):\n",
    "        key1 = hex_to_bin(key1)\n",
    "    if isinstance(key2, str):\n",
    "        key2 = hex_to_bin(key2)\n",
    "    result = ''\n",
    "    if encrypt:\n",
    "        result, _ = cipher_DES(message, key1)\n",
    "        result, _ = cipher_DES(result, key2)\n",
    "        result, _ = cipher_DES(result, key1)\n",
    "    else:\n",
    "        result, _ = cipher_DES(message, key1, encrypt=False)\n",
    "        result, _ = cipher_DES(result, key2, encrypt=False)\n",
    "        result, _ = cipher_DES(result, key1, encrypt=False)\n",
    "    return result"
   ],
   "id": "5d67d0dc4a83b934",
   "outputs": [],
   "execution_count": 47
  },
  {
   "metadata": {
    "ExecuteTime": {
     "end_time": "2025-03-04T22:18:14.933389Z",
     "start_time": "2025-03-04T22:18:14.924002Z"
    }
   },
   "cell_type": "code",
   "source": [
    "def DES_EEE2_mode_ECB(message, key1, key2, encrypt=True):\n",
    "    blocks = str_to_block_64_bit(message)\n",
    "    res_blocks = []\n",
    "    for block in blocks:\n",
    "        res_block = DES_EEE2(block, key1, key2, encrypt)\n",
    "        res_blocks.append(res_block)\n",
    "    \n",
    "    result_hex = ' '.join([bin_to_hex(block) for block in res_blocks])\n",
    "    result_str = block_64_bit_to_str(res_blocks)\n",
    "    return result_hex, result_str"
   ],
   "id": "f13d14e4c74e634c",
   "outputs": [],
   "execution_count": 48
  },
  {
   "metadata": {
    "ExecuteTime": {
     "end_time": "2025-03-04T22:18:15.108641Z",
     "start_time": "2025-03-04T22:18:14.997345Z"
    }
   },
   "cell_type": "code",
   "source": [
    "encrypted_message_hex_EEE2_ECB, encrypted_message_str_EEE2_ECB = DES_EEE2_mode_ECB(message, key1, key2, encrypt=True)\n",
    "decrypted_message_hex_EEE2_ECB, decrypted_message_str_EEE2_ECB = DES_EEE2_mode_ECB(encrypted_message_str_EEE2_ECB, key1, key2, encrypt=False)"
   ],
   "id": "d7c737630b2f73f8",
   "outputs": [],
   "execution_count": 49
  },
  {
   "metadata": {
    "ExecuteTime": {
     "end_time": "2025-03-04T22:18:15.148708Z",
     "start_time": "2025-03-04T22:18:15.138047Z"
    }
   },
   "cell_type": "code",
   "source": [
    "print(f\"Encrypted message by 2-DES (EEE) (hex): {encrypted_message_hex_EEE2_ECB}\")\n",
    "print(f\"Encrypted message by 2-DES (EEE) (str): {encrypted_message_str_EEE2_ECB}\")\n",
    "print(f\"Decrypted message by 2-DES (EEE) (hex): {decrypted_message_hex_EEE2_ECB}\")\n",
    "print(f\"Decrypted message by 2-DES (EEE) (str): {decrypted_message_str_EEE2_ECB}\")"
   ],
   "id": "6a2d086b9349dc8b",
   "outputs": [
    {
     "name": "stdout",
     "output_type": "stream",
     "text": [
      "Encrypted message by 2-DES (EEE) (hex): 72 FD C7 CF CF 13 06 DA C0 4D EB 2A DD D5 52 06 7A 72 F2 5B C2 58 3C A8 61 EE 91 DC 6A 9A 73 5C C8 1A 1D DA BB 70 29 B9 45 08 25 D0 1C 37 72 59 78 14 41 39 82 30 75 49 A0 25 41 73 4A BA 08 FD A8 E2 B6 CD B1 D5 E4 C1 93 6E 86 9B 60 C4 35 05 02 BA ED 7C 28 3F 00 40 8E 4E A3 56 DC 0B 46 CA B3 0D 18 FF 04 75 BF E4 20 EE 91 61 9E E6 04 70\n",
      "\u0018ÿ\u0004u¿ä îaæ\u0004page by 2-DES (EEE) (str): rýÇÏÏ\u0013\u0006ÚÀMë*ÝÕR\u0006zrò[ÂX<¨aîÜjs\\È\u001A\u001DÚ»p)¹%Ð\u001C7rYx\u0014A90uI %AsJý¨â¶Í±ÕäÁn`Ä5\u0005\u0002ºí|(?\u0000@N£VÜ\u000BFÊ³\n",
      "Decrypted message by 2-DES (EEE) (hex): 48 65 6C 6C 6F 2C 20 77 6F 72 6C 64 21 20 4D 79 20 6E 61 6D 65 20 69 73 20 33 2D 44 45 53 2E 20 33 2D 44 45 53 20 69 73 20 61 20 73 79 6D 6D 65 74 72 69 63 2D 6B 65 79 20 61 6C 67 6F 72 69 74 68 6D 20 66 6F 72 20 74 68 65 20 65 6E 63 72 79 70 74 69 6F 6E 20 6F 66 20 65 6C 65 63 74 72 6F 6E 69 63 20 64 61 74 61 2E 00 00 00 00 00 00 00 83 CC D6 94 7D 08 B8 94\n",
      "Decrypted message by 2-DES (EEE) (str): Hello, world! My name is 3-DES. 3-DES is a symmetric-key algorithm for the encryption of electronic data.\u0000\u0000\u0000\u0000\u0000\u0000\u0000ÌÖ¸\n"
     ]
    }
   ],
   "execution_count": 50
  }
 ],
 "metadata": {
  "kernelspec": {
   "display_name": "Python 3",
   "language": "python",
   "name": "python3"
  },
  "language_info": {
   "codemirror_mode": {
    "name": "ipython",
    "version": 2
   },
   "file_extension": ".py",
   "mimetype": "text/x-python",
   "name": "python",
   "nbconvert_exporter": "python",
   "pygments_lexer": "ipython2",
   "version": "2.7.6"
  }
 },
 "nbformat": 4,
 "nbformat_minor": 5
}
